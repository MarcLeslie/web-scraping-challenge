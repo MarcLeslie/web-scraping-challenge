{
 "cells": [
  {
   "cell_type": "markdown",
   "id": "82527fd9-66f1-4f1f-a669-ca6153536293",
   "metadata": {},
   "source": [
    "### Scrape the Mars NEWS Site for THE SINGLE MOST RECENT latest News Title and Paragraph Text"
   ]
  },
  {
   "cell_type": "code",
   "execution_count": 1,
   "id": "30dce5b9-d899-45b7-aa62-fdd3a9de53bc",
   "metadata": {
    "tags": []
   },
   "outputs": [],
   "source": [
    "import pymongo \n",
    "from bs4 import BeautifulSoup as bs\n",
    "import requests\n",
    "from splinter import Browser\n",
    "import os\n",
    "from webdriver_manager.chrome import ChromeDriverManager\n",
    "import pandas as pd"
   ]
  },
  {
   "cell_type": "code",
   "execution_count": 2,
   "id": "560abf50-acdf-46c1-89e6-0683269ece66",
   "metadata": {},
   "outputs": [
    {
     "name": "stderr",
     "output_type": "stream",
     "text": [
      "\n",
      "\n",
      "====== WebDriver manager ======\n",
      "Current google-chrome version is 91.0.4472\n",
      "Get LATEST driver version for 91.0.4472\n",
      "Driver [C:\\Users\\marc_\\.wdm\\drivers\\chromedriver\\win32\\91.0.4472.19\\chromedriver.exe] found in cache\n"
     ]
    }
   ],
   "source": [
    "executable_path = {'executable_path': ChromeDriverManager().install()}"
   ]
  },
  {
   "cell_type": "code",
   "execution_count": 3,
   "id": "ae15f60a-f97d-4c83-8d61-9fd61a2d9a7f",
   "metadata": {},
   "outputs": [],
   "source": [
    "HLbrowser = Browser('chrome', **executable_path, headless=False)\n",
    "HLurl = \"https://redplanetscience.com\"\n",
    "HLbrowser.visit(HLurl)\n",
    "HLhtml = HLbrowser.html\n",
    "HLsoup = bs(HLhtml, 'html.parser')"
   ]
  },
  {
   "cell_type": "code",
   "execution_count": 4,
   "id": "2ac625e8-7085-4d18-9144-dad36b7b3ee7",
   "metadata": {
    "tags": []
   },
   "outputs": [],
   "source": [
    "#THIS, FOR SOME REASON, DOES NOT WORK\n",
    "# url = \"https://redplanetscience.com/\"\n",
    "# response = requests.get(url)\n",
    "# soup = bs(response.text, 'html.parser')"
   ]
  },
  {
   "cell_type": "code",
   "execution_count": 5,
   "id": "38bfe0cd-51e9-441c-bfec-ad3f6995958d",
   "metadata": {
    "tags": []
   },
   "outputs": [
    {
     "name": "stdout",
     "output_type": "stream",
     "text": [
      "Two Rovers to Roll on Mars Again: Curiosity and Mars 2020\n",
      "They look like twins. But under the hood, the rover currently exploring the Red Planet and the one launching there this summer have distinct science tools and roles to play.\n"
     ]
    }
   ],
   "source": [
    "#Adding in .text to end of lines 3 and 4 = error for object has no attribute text\\\n",
    "#Adding in 'div' to the ( ) statement also not doing anything\n",
    "news_title = HLsoup.find('div' , class_='content_title').text\n",
    "p_text = HLsoup.find('div' , class_='article_teaser_body').text\n",
    "print(news_title)\n",
    "print(p_text)"
   ]
  },
  {
   "cell_type": "markdown",
   "id": "f01ef151-3b5f-4456-963d-27539d16dbcf",
   "metadata": {},
   "source": [
    "### Use Splinter to find the IMAGE URL for the CURRENT FEATURED mars image and assign the URL string to a var called featured_image_url"
   ]
  },
  {
   "cell_type": "code",
   "execution_count": 6,
   "id": "bc1109f9-92ee-4a3c-a8ba-cbfda36ba0d7",
   "metadata": {},
   "outputs": [],
   "source": [
    "IMGbrowser = Browser('chrome', **executable_path, headless=False)\n",
    "IMGurl = \"https://spaceimages-mars.com\"\n",
    "IMGbrowser.visit(IMGurl)\n",
    "IMGhtml = IMGbrowser.html\n",
    "IMGsoup = bs(IMGhtml, 'html.parser')"
   ]
  },
  {
   "cell_type": "code",
   "execution_count": 7,
   "id": "7ad7790c-215f-4d9a-8ba2-2bc10b8f0905",
   "metadata": {},
   "outputs": [
    {
     "name": "stdout",
     "output_type": "stream",
     "text": [
      "https://spaceimages-mars.com/image/featured/mars2.jpg\n"
     ]
    }
   ],
   "source": [
    "# thread = IMGsoup.find('a' , class_='showimg fancybox-thumbs')\n",
    "# featured_image_url = thread['href']\n",
    "thread = IMGsoup.find('img' , class_='headerimage fade-in')\n",
    "featured_image_url = thread['src']\n",
    "print(f'https://spaceimages-mars.com/{featured_image_url}')"
   ]
  },
  {
   "cell_type": "markdown",
   "id": "c5de777d-48e2-405b-a504-ac9575b39577",
   "metadata": {},
   "source": [
    "### Use Pandas to visit Mars FACTS page and scrape the table containing facts including diameter, mass, etc."
   ]
  },
  {
   "cell_type": "code",
   "execution_count": 8,
   "id": "30cdd887-1a74-4aa2-a755-78cf7e5a1e76",
   "metadata": {},
   "outputs": [],
   "source": [
    "FACTSurl = \"https://galaxyfacts-mars.com\"\n",
    "tables = pd.read_html(FACTSurl)"
   ]
  },
  {
   "cell_type": "code",
   "execution_count": 9,
   "id": "a8815ec4-385c-42a8-966d-518613e7839e",
   "metadata": {},
   "outputs": [],
   "source": [
    "#tables"
   ]
  },
  {
   "cell_type": "code",
   "execution_count": 10,
   "id": "070a4623-bde0-4ca1-baad-0e385b34e038",
   "metadata": {},
   "outputs": [
    {
     "data": {
      "text/html": [
       "<div>\n",
       "<style scoped>\n",
       "    .dataframe tbody tr th:only-of-type {\n",
       "        vertical-align: middle;\n",
       "    }\n",
       "\n",
       "    .dataframe tbody tr th {\n",
       "        vertical-align: top;\n",
       "    }\n",
       "\n",
       "    .dataframe thead th {\n",
       "        text-align: right;\n",
       "    }\n",
       "</style>\n",
       "<table border=\"1\" class=\"dataframe\">\n",
       "  <thead>\n",
       "    <tr style=\"text-align: right;\">\n",
       "      <th></th>\n",
       "      <th>Mars</th>\n",
       "      <th>Earth</th>\n",
       "    </tr>\n",
       "    <tr>\n",
       "      <th>Mars-Earth Comparison</th>\n",
       "      <th></th>\n",
       "      <th></th>\n",
       "    </tr>\n",
       "  </thead>\n",
       "  <tbody>\n",
       "    <tr>\n",
       "      <th>Diameter:</th>\n",
       "      <td>6,779 km</td>\n",
       "      <td>12,742 km</td>\n",
       "    </tr>\n",
       "    <tr>\n",
       "      <th>Mass:</th>\n",
       "      <td>6.39 × 10^23 kg</td>\n",
       "      <td>5.97 × 10^24 kg</td>\n",
       "    </tr>\n",
       "    <tr>\n",
       "      <th>Moons:</th>\n",
       "      <td>2</td>\n",
       "      <td>1</td>\n",
       "    </tr>\n",
       "    <tr>\n",
       "      <th>Distance from Sun:</th>\n",
       "      <td>227,943,824 km</td>\n",
       "      <td>149,598,262 km</td>\n",
       "    </tr>\n",
       "    <tr>\n",
       "      <th>Length of Year:</th>\n",
       "      <td>687 Earth days</td>\n",
       "      <td>365.24 days</td>\n",
       "    </tr>\n",
       "  </tbody>\n",
       "</table>\n",
       "</div>"
      ],
      "text/plain": [
       "                                  Mars            Earth\n",
       "Mars-Earth Comparison                                  \n",
       "Diameter:                     6,779 km        12,742 km\n",
       "Mass:                  6.39 × 10^23 kg  5.97 × 10^24 kg\n",
       "Moons:                               2                1\n",
       "Distance from Sun:      227,943,824 km   149,598,262 km\n",
       "Length of Year:         687 Earth days      365.24 days"
      ]
     },
     "execution_count": 10,
     "metadata": {},
     "output_type": "execute_result"
    }
   ],
   "source": [
    "mars_df = tables[0]\n",
    "mars_df.columns = [\"Mars-Earth Comparison\", \"Mars\", \"Earth\"]\n",
    "mars_df = mars_df.iloc[1:]\n",
    "mars_df.set_index(\"Mars-Earth Comparison\" , inplace=True)\n",
    "mars_df.head()"
   ]
  },
  {
   "cell_type": "code",
   "execution_count": 11,
   "id": "cc722557-319a-44e9-a529-ec515a3f8128",
   "metadata": {},
   "outputs": [
    {
     "data": {
      "text/plain": [
       "'<table border=\"1\" class=\"dataframe\">\\n  <thead>\\n    <tr style=\"text-align: right;\">\\n      <th></th>\\n      <th>Mars</th>\\n      <th>Earth</th>\\n    </tr>\\n    <tr>\\n      <th>Mars-Earth Comparison</th>\\n      <th></th>\\n      <th></th>\\n    </tr>\\n  </thead>\\n  <tbody>\\n    <tr>\\n      <th>Diameter:</th>\\n      <td>6,779 km</td>\\n      <td>12,742 km</td>\\n    </tr>\\n    <tr>\\n      <th>Mass:</th>\\n      <td>6.39 × 10^23 kg</td>\\n      <td>5.97 × 10^24 kg</td>\\n    </tr>\\n    <tr>\\n      <th>Moons:</th>\\n      <td>2</td>\\n      <td>1</td>\\n    </tr>\\n    <tr>\\n      <th>Distance from Sun:</th>\\n      <td>227,943,824 km</td>\\n      <td>149,598,262 km</td>\\n    </tr>\\n    <tr>\\n      <th>Length of Year:</th>\\n      <td>687 Earth days</td>\\n      <td>365.24 days</td>\\n    </tr>\\n    <tr>\\n      <th>Temperature:</th>\\n      <td>-87 to -5 °C</td>\\n      <td>-88 to 58°C</td>\\n    </tr>\\n  </tbody>\\n</table>'"
      ]
     },
     "execution_count": 11,
     "metadata": {},
     "output_type": "execute_result"
    }
   ],
   "source": [
    "html_table = mars_df.to_html()\n",
    "html_table"
   ]
  },
  {
   "cell_type": "markdown",
   "id": "6c1833ca-4e65-443b-8dc6-318d80b1bee3",
   "metadata": {},
   "source": [
    "### Obtain high res images of Mars HEMISPHERES"
   ]
  },
  {
   "cell_type": "code",
   "execution_count": 12,
   "id": "5ba492cf-6049-4c38-bb44-eb82f17356ac",
   "metadata": {},
   "outputs": [],
   "source": [
    "HEMIbrowser = Browser('chrome', **executable_path, headless=False)\n",
    "HEMIurl = 'https://marshemispheres.com'\n",
    "HEMIbrowser.visit(HEMIurl)\n",
    "HEMIhtml = HEMIbrowser.html\n",
    "HEMIsoup = bs(HEMIhtml, 'html.parser')"
   ]
  },
  {
   "cell_type": "code",
   "execution_count": 13,
   "id": "7e77f70c-9bd9-47b9-b02a-eabb5b9545b3",
   "metadata": {},
   "outputs": [
    {
     "data": {
      "text/plain": [
       "['https://marshemispheres.com/cerberus.html',\n",
       " 'https://marshemispheres.com/schiaparelli.html',\n",
       " 'https://marshemispheres.com/syrtis.html',\n",
       " 'https://marshemispheres.com/valles.html']"
      ]
     },
     "execution_count": 13,
     "metadata": {},
     "output_type": "execute_result"
    }
   ],
   "source": [
    "finder = HEMIsoup.find_all('div', class_='item')\n",
    "\n",
    "HEMI_url_list = []\n",
    "\n",
    "for x in finder:\n",
    "    url = x.find('a')['href']\n",
    "    HEMI_url_list.append(f'https://marshemispheres.com/{url}')\n",
    "\n",
    "HEMI_url_list"
   ]
  },
  {
   "cell_type": "code",
   "execution_count": 14,
   "id": "daec372e-1d0e-4d6b-85bc-a8a236e4b638",
   "metadata": {
    "tags": []
   },
   "outputs": [],
   "source": [
    "#finder"
   ]
  },
  {
   "cell_type": "code",
   "execution_count": null,
   "id": "894e9cea-9086-42d4-a76f-c7a7e7a5bdd9",
   "metadata": {},
   "outputs": [],
   "source": []
  },
  {
   "cell_type": "code",
   "execution_count": null,
   "id": "438ab6f6-fe72-4d82-bdb7-08c81370efc5",
   "metadata": {},
   "outputs": [],
   "source": []
  },
  {
   "cell_type": "code",
   "execution_count": 100,
   "id": "a3c4b689-8999-4014-8521-826800def27f",
   "metadata": {},
   "outputs": [
    {
     "data": {
      "text/plain": [
       "[{'title': 'Cerberus Hemisphere'},\n",
       " {'title': 'Schiaparelli Hemisphere'},\n",
       " {'title': 'Syrtis Major Hemisphere'},\n",
       " {'title': 'Valles Marineris Hemisphere'}]"
      ]
     },
     "execution_count": 100,
     "metadata": {},
     "output_type": "execute_result"
    }
   ],
   "source": [
    "hemisphere_image_urls=[]\n",
    "\n",
    "\n",
    "for x in HEMI_url_list:\n",
    "    new_blank_dict={}\n",
    "    HEMIbrowser.visit(x)\n",
    "    HEMI2html = HEMIbrowser.html\n",
    "    HEMI2soup = bs(HEMI2html, 'html.parser')\n",
    "#     new_blank_dict[\"test_URL\"]= x\n",
    "    new_blank_dict[\"title\"] =  HEMI2soup.find('h2', class_='title').text.rsplit(' ' , 1)[0] \n",
    "\n",
    "    img_url1 = HEMI2soup.find('img', class_='wide-image')['src']\n",
    "    new_blank_dict['img_url'] \n",
    "    \n",
    "    hemisphere_image_urls.append( new_blank_dict)\n",
    "    \n",
    "hemisphere_image_urls"
   ]
  },
  {
   "cell_type": "code",
   "execution_count": 69,
   "id": "c31adee9-bc2e-40aa-9bd5-6bd9431655fa",
   "metadata": {},
   "outputs": [],
   "source": [
    "# RUN A FOR LOOP USING HEMI_URL_LIST; FOR EACH URL IN THE HEMI_URL_LIST, FIMD THE CORRECT URL AND TITLE AT THE SAME TIME \n",
    "# DECLARE EMPTY DICT\n",
    "# SCRAPE FOR URL IN HEMI_URL_LIST get the URL FOR THE IMAGE\n",
    "# GET THE TITLE AS WELL\n",
    "# APPEND THE DICT\n",
    "\n",
    "# TEMPLATE\n",
    "# all_names = []\n",
    "#     for name in results:\n",
    "#         url_dict = {}\n",
    "#         url_dict[\"name\"] = name\n",
    "#         url_dict[\"url\"] = url\n",
    "#         all_names.append(url_dict)"
   ]
  },
  {
   "cell_type": "code",
   "execution_count": null,
   "id": "c1327530-a944-4026-8c34-cb2f8ebba19e",
   "metadata": {},
   "outputs": [],
   "source": []
  },
  {
   "cell_type": "code",
   "execution_count": null,
   "id": "c9e35da1-b737-412e-b71a-50da404cfb35",
   "metadata": {},
   "outputs": [],
   "source": [
    "# finder2 = HEMIsoup.find_all('img', class_='thumb') this gives the img alt test, class=thumb, src of image.\n",
    "# finder2 = HEMIsoup.find_all('div', class_='a') returns nothing at all\n",
    "# finder2 = HEMIsoup.find_all('div', class_='description') returns a classs itemLink product-item, hreft, and h3 tag with description that you want\n",
    "# finder2 = HEMIsoup.find_all('a', class_='itemLink product-item') returns just the a tag area with the href, img alt, class, and src THIS MAY BE THE BETTER BET\n",
    "# finder2 = HEMIsoup.find_all('a', class_='itemLink product-item')\n",
    "# finder2 = HEMIsoup.find_all('div', class_='description')\n",
    "# HEMI_title_list = []\n",
    "\n",
    "# for x in finder2:\n",
    "#     HEMI_title = x.find('h3').text.rsplit(' ' , 1)[0] #adding in the r.split drops the word \"enhanced\"\n",
    "#     HEMI_title_list.append(HEMI_title)\n",
    "\n",
    "# HEMI_title_list"
   ]
  },
  {
   "cell_type": "code",
   "execution_count": null,
   "id": "18eb272b-e72d-4082-84c4-bd570cc88ca7",
   "metadata": {
    "tags": []
   },
   "outputs": [],
   "source": [
    "#finder2"
   ]
  },
  {
   "cell_type": "code",
   "execution_count": null,
   "id": "23b051c1-57b5-489a-846d-d4f586e4dea9",
   "metadata": {},
   "outputs": [],
   "source": [
    "# Create ONE DICT with key Img_URL\n",
    "# Create ONE DICT wth key title\n",
    "# \"Append\" the two dicts to a [list] which will contain one dict per hemi"
   ]
  },
  {
   "cell_type": "code",
   "execution_count": null,
   "id": "e72548d2-0b46-46d3-929c-d38263feba3c",
   "metadata": {},
   "outputs": [],
   "source": [
    "# dict1={\n",
    "#     'title' : HEMI_title_list,\n",
    "# }\n",
    "\n",
    "# dict2={\n",
    "#     'url' : HEMI_url_list,\n",
    "# }\n",
    "# print(dict1)\n",
    "# print(dict2)"
   ]
  },
  {
   "cell_type": "code",
   "execution_count": null,
   "id": "a63a5f71-0690-4230-823d-6491ae736614",
   "metadata": {},
   "outputs": [],
   "source": []
  }
 ],
 "metadata": {
  "kernelspec": {
   "display_name": "Python 3",
   "language": "python",
   "name": "python3"
  },
  "language_info": {
   "codemirror_mode": {
    "name": "ipython",
    "version": 3
   },
   "file_extension": ".py",
   "mimetype": "text/x-python",
   "name": "python",
   "nbconvert_exporter": "python",
   "pygments_lexer": "ipython3",
   "version": "3.8.8"
  }
 },
 "nbformat": 4,
 "nbformat_minor": 5
}
