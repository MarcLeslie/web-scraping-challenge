{
 "cells": [
  {
   "cell_type": "markdown",
   "id": "82527fd9-66f1-4f1f-a669-ca6153536293",
   "metadata": {},
   "source": [
    "### Scrape the Mars NEWS Site for THE SINGLE MOST RECENT latest News Title and Paragraph Text"
   ]
  },
  {
   "cell_type": "code",
   "execution_count": 1,
   "id": "30dce5b9-d899-45b7-aa62-fdd3a9de53bc",
   "metadata": {
    "tags": []
   },
   "outputs": [],
   "source": [
    "import pymongo \n",
    "from bs4 import BeautifulSoup as bs\n",
    "import requests\n",
    "from splinter import Browser\n",
    "import os\n",
    "from webdriver_manager.chrome import ChromeDriverManager\n",
    "import pandas as pd"
   ]
  },
  {
   "cell_type": "code",
   "execution_count": 2,
   "id": "560abf50-acdf-46c1-89e6-0683269ece66",
   "metadata": {},
   "outputs": [
    {
     "name": "stderr",
     "output_type": "stream",
     "text": [
      "\n",
      "\n",
      "====== WebDriver manager ======\n",
      "Current google-chrome version is 91.0.4472\n",
      "Get LATEST driver version for 91.0.4472\n",
      "Driver [C:\\Users\\marc_\\.wdm\\drivers\\chromedriver\\win32\\91.0.4472.101\\chromedriver.exe] found in cache\n"
     ]
    }
   ],
   "source": [
    "executable_path = {'executable_path': ChromeDriverManager().install()}\n",
    "browser = Browser('chrome', **executable_path, headless=False)"
   ]
  },
  {
   "cell_type": "code",
   "execution_count": 3,
   "id": "ae15f60a-f97d-4c83-8d61-9fd61a2d9a7f",
   "metadata": {},
   "outputs": [],
   "source": [
    "mars_news_url = \"https://redplanetscience.com\"\n",
    "browser.visit(mars_news_url)\n",
    "mars_news_html = browser.html\n",
    "mars_news_soup = bs(mars_news_html, 'html.parser')"
   ]
  },
  {
   "cell_type": "code",
   "execution_count": 4,
   "id": "2ac625e8-7085-4d18-9144-dad36b7b3ee7",
   "metadata": {
    "tags": []
   },
   "outputs": [],
   "source": [
    "#THIS, FOR SOME REASON, DOES NOT WORK\n",
    "# url = \"https://redplanetscience.com/\"\n",
    "# response = requests.get(url)\n",
    "# soup = bs(response.text, 'html.parser')"
   ]
  },
  {
   "cell_type": "code",
   "execution_count": 5,
   "id": "38bfe0cd-51e9-441c-bfec-ad3f6995958d",
   "metadata": {
    "tags": []
   },
   "outputs": [
    {
     "name": "stdout",
     "output_type": "stream",
     "text": [
      "NASA to Broadcast Mars 2020 Perseverance Launch, Prelaunch Activities\n",
      "Starting July 27, news activities will cover everything from mission engineering and science to returning samples from Mars to, of course, the launch itself.\n"
     ]
    }
   ],
   "source": [
    "#Adding in .text to end of lines 3 and 4 = error for object has no attribute text\\\n",
    "#Adding in 'div' to the ( ) statement also not doing anything\n",
    "news_title = mars_news_soup.find('div' , class_='content_title').text\n",
    "news_paragraph = mars_news_soup.find('div' , class_='article_teaser_body').text\n",
    "print(news_title)\n",
    "print(news_paragraph)"
   ]
  },
  {
   "cell_type": "markdown",
   "id": "f01ef151-3b5f-4456-963d-27539d16dbcf",
   "metadata": {},
   "source": [
    "### Use Splinter to find the IMAGE URL for the CURRENT FEATURED mars image and assign the URL string to a var called featured_image_url"
   ]
  },
  {
   "cell_type": "code",
   "execution_count": 6,
   "id": "bc1109f9-92ee-4a3c-a8ba-cbfda36ba0d7",
   "metadata": {},
   "outputs": [],
   "source": [
    "# mars_img_browser = Browser('chrome', **executable_path, headless=False)\n",
    "mars_img_url = \"https://spaceimages-mars.com\"\n",
    "browser.visit(mars_img_url)\n",
    "mars_img_html = browser.html\n",
    "mars_img_soup = bs(mars_img_html, 'html.parser')"
   ]
  },
  {
   "cell_type": "code",
   "execution_count": 7,
   "id": "7ad7790c-215f-4d9a-8ba2-2bc10b8f0905",
   "metadata": {},
   "outputs": [
    {
     "data": {
      "text/plain": [
       "'https://spaceimages-mars.com/image/featured/mars2.jpg'"
      ]
     },
     "execution_count": 7,
     "metadata": {},
     "output_type": "execute_result"
    }
   ],
   "source": [
    "# thread = IMGsoup.find('a' , class_='showimg fancybox-thumbs')\n",
    "# featured_image_url = thread['href']\n",
    "thread = mars_img_soup.find('img' , class_='headerimage fade-in')\n",
    "featured_image_url = thread['src']\n",
    "featured_image_url2 = f'https://spaceimages-mars.com/{featured_image_url}'\n",
    "# print(f'https://spaceimages-mars.com/{featured_image_url}')\n",
    "featured_image_url2"
   ]
  },
  {
   "cell_type": "markdown",
   "id": "c5de777d-48e2-405b-a504-ac9575b39577",
   "metadata": {},
   "source": [
    "### Use Pandas to visit Mars FACTS page and scrape the table containing facts including diameter, mass, etc."
   ]
  },
  {
   "cell_type": "code",
   "execution_count": 8,
   "id": "30cdd887-1a74-4aa2-a755-78cf7e5a1e76",
   "metadata": {},
   "outputs": [],
   "source": [
    "mars_facts_url = \"https://galaxyfacts-mars.com\"\n",
    "tables = pd.read_html(mars_facts_url)\n",
    "#tables"
   ]
  },
  {
   "cell_type": "code",
   "execution_count": 9,
   "id": "070a4623-bde0-4ca1-baad-0e385b34e038",
   "metadata": {},
   "outputs": [
    {
     "data": {
      "text/html": [
       "<div>\n",
       "<style scoped>\n",
       "    .dataframe tbody tr th:only-of-type {\n",
       "        vertical-align: middle;\n",
       "    }\n",
       "\n",
       "    .dataframe tbody tr th {\n",
       "        vertical-align: top;\n",
       "    }\n",
       "\n",
       "    .dataframe thead th {\n",
       "        text-align: right;\n",
       "    }\n",
       "</style>\n",
       "<table border=\"1\" class=\"dataframe\">\n",
       "  <thead>\n",
       "    <tr style=\"text-align: right;\">\n",
       "      <th></th>\n",
       "      <th>Mars</th>\n",
       "      <th>Earth</th>\n",
       "    </tr>\n",
       "    <tr>\n",
       "      <th>Mars-Earth Comparison</th>\n",
       "      <th></th>\n",
       "      <th></th>\n",
       "    </tr>\n",
       "  </thead>\n",
       "  <tbody>\n",
       "    <tr>\n",
       "      <th>Diameter:</th>\n",
       "      <td>6,779 km</td>\n",
       "      <td>12,742 km</td>\n",
       "    </tr>\n",
       "    <tr>\n",
       "      <th>Mass:</th>\n",
       "      <td>6.39 × 10^23 kg</td>\n",
       "      <td>5.97 × 10^24 kg</td>\n",
       "    </tr>\n",
       "    <tr>\n",
       "      <th>Moons:</th>\n",
       "      <td>2</td>\n",
       "      <td>1</td>\n",
       "    </tr>\n",
       "    <tr>\n",
       "      <th>Distance from Sun:</th>\n",
       "      <td>227,943,824 km</td>\n",
       "      <td>149,598,262 km</td>\n",
       "    </tr>\n",
       "    <tr>\n",
       "      <th>Length of Year:</th>\n",
       "      <td>687 Earth days</td>\n",
       "      <td>365.24 days</td>\n",
       "    </tr>\n",
       "  </tbody>\n",
       "</table>\n",
       "</div>"
      ],
      "text/plain": [
       "                                  Mars            Earth\n",
       "Mars-Earth Comparison                                  \n",
       "Diameter:                     6,779 km        12,742 km\n",
       "Mass:                  6.39 × 10^23 kg  5.97 × 10^24 kg\n",
       "Moons:                               2                1\n",
       "Distance from Sun:      227,943,824 km   149,598,262 km\n",
       "Length of Year:         687 Earth days      365.24 days"
      ]
     },
     "execution_count": 9,
     "metadata": {},
     "output_type": "execute_result"
    }
   ],
   "source": [
    "mars_df = tables[0]\n",
    "mars_df.columns = [\"Mars-Earth Comparison\", \"Mars\", \"Earth\"]\n",
    "mars_df = mars_df.iloc[1:]\n",
    "mars_df.set_index(\"Mars-Earth Comparison\" , inplace=True)\n",
    "mars_df.head()"
   ]
  },
  {
   "cell_type": "code",
   "execution_count": 10,
   "id": "cc722557-319a-44e9-a529-ec515a3f8128",
   "metadata": {},
   "outputs": [
    {
     "data": {
      "text/plain": [
       "'<table border=\"1\" class=\"dataframe\">  <thead>    <tr style=\"text-align: right;\">      <th></th>      <th>Mars</th>      <th>Earth</th>    </tr>    <tr>      <th>Mars-Earth Comparison</th>      <th></th>      <th></th>    </tr>  </thead>  <tbody>    <tr>      <th>Diameter:</th>      <td>6,779 km</td>      <td>12,742 km</td>    </tr>    <tr>      <th>Mass:</th>      <td>6.39 × 10^23 kg</td>      <td>5.97 × 10^24 kg</td>    </tr>    <tr>      <th>Moons:</th>      <td>2</td>      <td>1</td>    </tr>    <tr>      <th>Distance from Sun:</th>      <td>227,943,824 km</td>      <td>149,598,262 km</td>    </tr>    <tr>      <th>Length of Year:</th>      <td>687 Earth days</td>      <td>365.24 days</td>    </tr>    <tr>      <th>Temperature:</th>      <td>-87 to -5 °C</td>      <td>-88 to 58°C</td>    </tr>  </tbody></table>'"
      ]
     },
     "execution_count": 10,
     "metadata": {},
     "output_type": "execute_result"
    }
   ],
   "source": [
    "facts_html_table = mars_df.to_html().replace('\\n','')\n",
    "facts_html_table"
   ]
  },
  {
   "cell_type": "markdown",
   "id": "6c1833ca-4e65-443b-8dc6-318d80b1bee3",
   "metadata": {},
   "source": [
    "### Obtain high res images of Mars HEMISPHERES"
   ]
  },
  {
   "cell_type": "code",
   "execution_count": 11,
   "id": "5ba492cf-6049-4c38-bb44-eb82f17356ac",
   "metadata": {},
   "outputs": [],
   "source": [
    "# mars_hemi_browser = Browser('chrome', **executable_path, headless=False)\n",
    "mars_hemi_url = 'https://marshemispheres.com'\n",
    "browser.visit(mars_hemi_url)\n",
    "mars_hemi_html = browser.html\n",
    "mars_hemi_soup = bs(mars_hemi_html, 'html.parser')"
   ]
  },
  {
   "cell_type": "code",
   "execution_count": 12,
   "id": "7e77f70c-9bd9-47b9-b02a-eabb5b9545b3",
   "metadata": {},
   "outputs": [
    {
     "data": {
      "text/plain": [
       "['https://marshemispheres.com/cerberus.html',\n",
       " 'https://marshemispheres.com/schiaparelli.html',\n",
       " 'https://marshemispheres.com/syrtis.html',\n",
       " 'https://marshemispheres.com/valles.html']"
      ]
     },
     "execution_count": 12,
     "metadata": {},
     "output_type": "execute_result"
    }
   ],
   "source": [
    "finder = mars_hemi_soup.find_all('div', class_='item')\n",
    "\n",
    "mars_hemi_url_list = []\n",
    "\n",
    "for x in finder:\n",
    "    url = x.find('a')['href']\n",
    "    mars_hemi_url_list.append(f'https://marshemispheres.com/{url}')\n",
    "\n",
    "mars_hemi_url_list"
   ]
  },
  {
   "cell_type": "code",
   "execution_count": 13,
   "id": "daec372e-1d0e-4d6b-85bc-a8a236e4b638",
   "metadata": {
    "tags": []
   },
   "outputs": [],
   "source": [
    "#finder"
   ]
  },
  {
   "cell_type": "code",
   "execution_count": 14,
   "id": "a3c4b689-8999-4014-8521-826800def27f",
   "metadata": {},
   "outputs": [
    {
     "data": {
      "text/plain": [
       "[{'title': 'Cerberus Hemisphere',\n",
       "  'img_url': 'https://marshemispheres.com/images/f5e372a36edfa389625da6d0cc25d905_cerberus_enhanced.tif_full.jpg'},\n",
       " {'title': 'Schiaparelli Hemisphere',\n",
       "  'img_url': 'https://marshemispheres.com/images/3778f7b43bbbc89d6e3cfabb3613ba93_schiaparelli_enhanced.tif_full.jpg'},\n",
       " {'title': 'Syrtis Major Hemisphere',\n",
       "  'img_url': 'https://marshemispheres.com/images/555e6403a6ddd7ba16ddb0e471cadcf7_syrtis_major_enhanced.tif_full.jpg'},\n",
       " {'title': 'Valles Marineris Hemisphere',\n",
       "  'img_url': 'https://marshemispheres.com/images/b3c7c6c9138f57b4756be9b9c43e3a48_valles_marineris_enhanced.tif_full.jpg'}]"
      ]
     },
     "execution_count": 14,
     "metadata": {},
     "output_type": "execute_result"
    }
   ],
   "source": [
    "mars_hemi_image_urls=[]\n",
    "\n",
    "\n",
    "for x in mars_hemi_url_list:\n",
    "    new_blank_dict={}\n",
    "    browser.visit(x)\n",
    "    mars_hemi2_html = browser.html\n",
    "    mars_hemi2_soup = bs(mars_hemi2_html, 'html.parser')\n",
    "    new_blank_dict[\"title\"] =  mars_hemi2_soup.find('h2', class_='title').text.rsplit(' ' , 1)[0] \n",
    "    img_url1 = mars_hemi2_soup.find('img', class_='wide-image')['src']\n",
    "    new_blank_dict['img_url'] = (f'https://marshemispheres.com/{img_url1}')\n",
    "    mars_hemi_image_urls.append( new_blank_dict)\n",
    "    \n",
    "mars_hemi_image_urls"
   ]
  },
  {
   "cell_type": "code",
   "execution_count": 15,
   "id": "a63a5f71-0690-4230-823d-6491ae736614",
   "metadata": {},
   "outputs": [],
   "source": [
    "browser.quit()"
   ]
  },
  {
   "cell_type": "code",
   "execution_count": null,
   "id": "05f7e3fa-b228-42ee-86db-6342cb951ffe",
   "metadata": {},
   "outputs": [],
   "source": []
  }
 ],
 "metadata": {
  "kernelspec": {
   "display_name": "Python 3",
   "language": "python",
   "name": "python3"
  },
  "language_info": {
   "codemirror_mode": {
    "name": "ipython",
    "version": 3
   },
   "file_extension": ".py",
   "mimetype": "text/x-python",
   "name": "python",
   "nbconvert_exporter": "python",
   "pygments_lexer": "ipython3",
   "version": "3.8.8"
  }
 },
 "nbformat": 4,
 "nbformat_minor": 5
}
