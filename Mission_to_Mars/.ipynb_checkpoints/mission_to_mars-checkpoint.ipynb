{
 "cells": [
  {
   "cell_type": "markdown",
   "id": "82527fd9-66f1-4f1f-a669-ca6153536293",
   "metadata": {},
   "source": [
    "### Scrape the Mars NEWS Site for THE SINGLE MOST RECENT latest News Title and Paragraph Text"
   ]
  },
  {
   "cell_type": "code",
   "execution_count": 1,
   "id": "30dce5b9-d899-45b7-aa62-fdd3a9de53bc",
   "metadata": {
    "tags": []
   },
   "outputs": [],
   "source": [
    "import pymongo \n",
    "from bs4 import BeautifulSoup as bs\n",
    "import requests\n",
    "from splinter import Browser\n",
    "import os\n",
    "from webdriver_manager.chrome import ChromeDriverManager\n",
    "import pandas as pd"
   ]
  },
  {
   "cell_type": "code",
   "execution_count": 2,
   "id": "560abf50-acdf-46c1-89e6-0683269ece66",
   "metadata": {},
   "outputs": [
    {
     "name": "stderr",
     "output_type": "stream",
     "text": [
      "\n",
      "\n",
      "====== WebDriver manager ======\n",
      "Current google-chrome version is 91.0.4472\n",
      "Get LATEST driver version for 91.0.4472\n",
      "Get LATEST driver version for 91.0.4472\n",
      "Trying to download new driver from https://chromedriver.storage.googleapis.com/91.0.4472.19/chromedriver_win32.zip\n",
      "Driver has been saved in cache [C:\\Users\\marc_\\.wdm\\drivers\\chromedriver\\win32\\91.0.4472.19]\n"
     ]
    }
   ],
   "source": [
    "executable_path = {'executable_path': ChromeDriverManager().install()}"
   ]
  },
  {
   "cell_type": "code",
   "execution_count": 3,
   "id": "ae15f60a-f97d-4c83-8d61-9fd61a2d9a7f",
   "metadata": {},
   "outputs": [],
   "source": [
    "HLbrowser = Browser('chrome', **executable_path, headless=False)\n",
    "HLurl = \"https://redplanetscience.com\"\n",
    "HLbrowser.visit(HLurl)\n",
    "HLhtml = HLbrowser.html\n",
    "HLsoup = bs(HLhtml, 'html.parser')"
   ]
  },
  {
   "cell_type": "code",
   "execution_count": 4,
   "id": "2ac625e8-7085-4d18-9144-dad36b7b3ee7",
   "metadata": {
    "tags": []
   },
   "outputs": [],
   "source": [
    "#THIS, FOR SOME REASON, DOES NOT WORK\n",
    "# url = \"https://redplanetscience.com/\"\n",
    "# response = requests.get(url)\n",
    "# soup = bs(response.text, 'html.parser')"
   ]
  },
  {
   "cell_type": "code",
   "execution_count": 5,
   "id": "38bfe0cd-51e9-441c-bfec-ad3f6995958d",
   "metadata": {
    "tags": []
   },
   "outputs": [
    {
     "name": "stdout",
     "output_type": "stream",
     "text": [
      "NASA Wins 4 Webbys, 4 People's Voice Awards\n",
      "Winners include the JPL-managed \"Send Your Name to Mars\" campaign, NASA's Global Climate Change website and Solar System Interactive.\n"
     ]
    }
   ],
   "source": [
    "#Adding in .text to end of lines 3 and 4 = error for object has no attribute text\\\n",
    "#Adding in 'div' to the ( ) statement also not doing anything\n",
    "news_title = HLsoup.find('div' , class_='content_title').text\n",
    "p_text = HLsoup.find('div' , class_='article_teaser_body').text\n",
    "print(news_title)\n",
    "print(p_text)"
   ]
  },
  {
   "cell_type": "markdown",
   "id": "f01ef151-3b5f-4456-963d-27539d16dbcf",
   "metadata": {},
   "source": [
    "### Use Splinter to find the IMAGE URL for the CURRENT FEATURED mars image and assign the URL string to a var called featured_image_url"
   ]
  },
  {
   "cell_type": "code",
   "execution_count": 6,
   "id": "bc1109f9-92ee-4a3c-a8ba-cbfda36ba0d7",
   "metadata": {},
   "outputs": [],
   "source": [
    "IMGbrowser = Browser('chrome', **executable_path, headless=False)\n",
    "IMGurl = \"https://spaceimages-mars.com\"\n",
    "IMGbrowser.visit(IMGurl)\n",
    "IMGhtml = IMGbrowser.html\n",
    "IMGsoup = bs(IMGhtml, 'html.parser')"
   ]
  },
  {
   "cell_type": "code",
   "execution_count": 7,
   "id": "7ad7790c-215f-4d9a-8ba2-2bc10b8f0905",
   "metadata": {},
   "outputs": [
    {
     "name": "stdout",
     "output_type": "stream",
     "text": [
      "https://spaceimages-mars.com/image/featured/mars3.jpg\n"
     ]
    }
   ],
   "source": [
    "# thread = IMGsoup.find('a' , class_='showimg fancybox-thumbs')\n",
    "# featured_image_url = thread['href']\n",
    "thread = IMGsoup.find('img' , class_='headerimage fade-in')\n",
    "featured_image_url = thread['src']\n",
    "print(f'https://spaceimages-mars.com/{featured_image_url}')"
   ]
  },
  {
   "cell_type": "markdown",
   "id": "c5de777d-48e2-405b-a504-ac9575b39577",
   "metadata": {},
   "source": [
    "### Use Pandas to visit Mars FACTS page and scrape the table containing facts including diameter, mass, etc."
   ]
  },
  {
   "cell_type": "code",
   "execution_count": 8,
   "id": "30cdd887-1a74-4aa2-a755-78cf7e5a1e76",
   "metadata": {},
   "outputs": [],
   "source": [
    "FACTSurl = \"https://galaxyfacts-mars.com\"\n",
    "tables = pd.read_html(FACTSurl)"
   ]
  },
  {
   "cell_type": "code",
   "execution_count": 9,
   "id": "a8815ec4-385c-42a8-966d-518613e7839e",
   "metadata": {},
   "outputs": [],
   "source": [
    "#tables"
   ]
  },
  {
   "cell_type": "code",
   "execution_count": 10,
   "id": "070a4623-bde0-4ca1-baad-0e385b34e038",
   "metadata": {},
   "outputs": [
    {
     "data": {
      "text/html": [
       "<div>\n",
       "<style scoped>\n",
       "    .dataframe tbody tr th:only-of-type {\n",
       "        vertical-align: middle;\n",
       "    }\n",
       "\n",
       "    .dataframe tbody tr th {\n",
       "        vertical-align: top;\n",
       "    }\n",
       "\n",
       "    .dataframe thead th {\n",
       "        text-align: right;\n",
       "    }\n",
       "</style>\n",
       "<table border=\"1\" class=\"dataframe\">\n",
       "  <thead>\n",
       "    <tr style=\"text-align: right;\">\n",
       "      <th></th>\n",
       "      <th>Mars</th>\n",
       "      <th>Earth</th>\n",
       "    </tr>\n",
       "    <tr>\n",
       "      <th>Mars-Earth Comparison</th>\n",
       "      <th></th>\n",
       "      <th></th>\n",
       "    </tr>\n",
       "  </thead>\n",
       "  <tbody>\n",
       "    <tr>\n",
       "      <th>Diameter:</th>\n",
       "      <td>6,779 km</td>\n",
       "      <td>12,742 km</td>\n",
       "    </tr>\n",
       "    <tr>\n",
       "      <th>Mass:</th>\n",
       "      <td>6.39 × 10^23 kg</td>\n",
       "      <td>5.97 × 10^24 kg</td>\n",
       "    </tr>\n",
       "    <tr>\n",
       "      <th>Moons:</th>\n",
       "      <td>2</td>\n",
       "      <td>1</td>\n",
       "    </tr>\n",
       "    <tr>\n",
       "      <th>Distance from Sun:</th>\n",
       "      <td>227,943,824 km</td>\n",
       "      <td>149,598,262 km</td>\n",
       "    </tr>\n",
       "    <tr>\n",
       "      <th>Length of Year:</th>\n",
       "      <td>687 Earth days</td>\n",
       "      <td>365.24 days</td>\n",
       "    </tr>\n",
       "  </tbody>\n",
       "</table>\n",
       "</div>"
      ],
      "text/plain": [
       "                                  Mars            Earth\n",
       "Mars-Earth Comparison                                  \n",
       "Diameter:                     6,779 km        12,742 km\n",
       "Mass:                  6.39 × 10^23 kg  5.97 × 10^24 kg\n",
       "Moons:                               2                1\n",
       "Distance from Sun:      227,943,824 km   149,598,262 km\n",
       "Length of Year:         687 Earth days      365.24 days"
      ]
     },
     "execution_count": 10,
     "metadata": {},
     "output_type": "execute_result"
    }
   ],
   "source": [
    "mars_df = tables[0]\n",
    "mars_df.columns = [\"Mars-Earth Comparison\", \"Mars\", \"Earth\"]\n",
    "mars_df = mars_df.iloc[1:]\n",
    "mars_df.set_index(\"Mars-Earth Comparison\" , inplace=True)\n",
    "mars_df.head()"
   ]
  },
  {
   "cell_type": "code",
   "execution_count": 11,
   "id": "cc722557-319a-44e9-a529-ec515a3f8128",
   "metadata": {},
   "outputs": [
    {
     "data": {
      "text/plain": [
       "'<table border=\"1\" class=\"dataframe\">\\n  <thead>\\n    <tr style=\"text-align: right;\">\\n      <th></th>\\n      <th>Mars</th>\\n      <th>Earth</th>\\n    </tr>\\n    <tr>\\n      <th>Mars-Earth Comparison</th>\\n      <th></th>\\n      <th></th>\\n    </tr>\\n  </thead>\\n  <tbody>\\n    <tr>\\n      <th>Diameter:</th>\\n      <td>6,779 km</td>\\n      <td>12,742 km</td>\\n    </tr>\\n    <tr>\\n      <th>Mass:</th>\\n      <td>6.39 × 10^23 kg</td>\\n      <td>5.97 × 10^24 kg</td>\\n    </tr>\\n    <tr>\\n      <th>Moons:</th>\\n      <td>2</td>\\n      <td>1</td>\\n    </tr>\\n    <tr>\\n      <th>Distance from Sun:</th>\\n      <td>227,943,824 km</td>\\n      <td>149,598,262 km</td>\\n    </tr>\\n    <tr>\\n      <th>Length of Year:</th>\\n      <td>687 Earth days</td>\\n      <td>365.24 days</td>\\n    </tr>\\n    <tr>\\n      <th>Temperature:</th>\\n      <td>-87 to -5 °C</td>\\n      <td>-88 to 58°C</td>\\n    </tr>\\n  </tbody>\\n</table>'"
      ]
     },
     "execution_count": 11,
     "metadata": {},
     "output_type": "execute_result"
    }
   ],
   "source": [
    "html_table = mars_df.to_html()\n",
    "html_table"
   ]
  },
  {
   "cell_type": "markdown",
   "id": "6c1833ca-4e65-443b-8dc6-318d80b1bee3",
   "metadata": {},
   "source": [
    "### Obtain high res images of Mars HEMISPHERES"
   ]
  },
  {
   "cell_type": "code",
   "execution_count": 12,
   "id": "5ba492cf-6049-4c38-bb44-eb82f17356ac",
   "metadata": {},
   "outputs": [],
   "source": [
    "HEMIbrowser = Browser('chrome', **executable_path, headless=False)\n",
    "HEMIurl = 'https://marshemispheres.com'\n",
    "HEMIbrowser.visit(HEMIurl)\n",
    "HEMIhtml = HEMIbrowser.html\n",
    "HEMIsoup = bs(HEMIhtml, 'html.parser')"
   ]
  },
  {
   "cell_type": "code",
   "execution_count": 13,
   "id": "6b27491e-8b63-46ef-8554-65f50df232a9",
   "metadata": {},
   "outputs": [],
   "source": [
    "# You will need to click EACH of the links to the hemis in ORDER to find the img url to the FULL RES IMAGE\n",
    "# Save image url strng and the Hemi title with the Hemi name\n",
    "# Store in a python dictionairy using the keys \"img_url\" and \"title\"\n",
    "# Append dictionairy with the image URL strong and the hemi title to a list.  This list will contain ONE DICTIONAIRY PER HEMI"
   ]
  },
  {
   "cell_type": "code",
   "execution_count": 15,
   "id": "7e77f70c-9bd9-47b9-b02a-eabb5b9545b3",
   "metadata": {},
   "outputs": [
    {
     "data": {
      "text/plain": [
       "['https://marshemispheres.com/cerberus.html',\n",
       " 'https://marshemispheres.com/schiaparelli.html',\n",
       " 'https://marshemispheres.com/syrtis.html',\n",
       " 'https://marshemispheres.com/valles.html']"
      ]
     },
     "execution_count": 15,
     "metadata": {},
     "output_type": "execute_result"
    }
   ],
   "source": [
    "finder = HEMIsoup.find_all('div', class_='item')\n",
    "\n",
    "HEMI_url_list = []\n",
    "\n",
    "for x in finder:\n",
    "    url = x.find('a')['href']\n",
    "    HEMI_url_list.append(f'https://marshemispheres.com/{url}')\n",
    "\n",
    "HEMI_url_list"
   ]
  },
  {
   "cell_type": "code",
   "execution_count": 22,
   "id": "daec372e-1d0e-4d6b-85bc-a8a236e4b638",
   "metadata": {
    "collapsed": true,
    "jupyter": {
     "outputs_hidden": true
    },
    "tags": []
   },
   "outputs": [
    {
     "data": {
      "text/plain": [
       "[<div class=\"item\">\n",
       " <a class=\"itemLink product-item\" href=\"cerberus.html\"><img alt=\"Cerberus Hemisphere Enhanced thumbnail\" class=\"thumb\" src=\"images/39d3266553462198bd2fbc4d18fbed17_cerberus_enhanced.tif_thumb.png\"/></a>\n",
       " <div class=\"description\">\n",
       " <a class=\"itemLink product-item\" href=\"cerberus.html\">\n",
       " <h3>Cerberus Hemisphere Enhanced</h3>\n",
       " </a>\n",
       " <span class=\"subtitle\" style=\"float:left\">image/tiff 21 MB</span><span class=\"pubDate\" style=\"float:right\"></span><br/>\n",
       " <p>Mosaic of the Cerberus hemisphere of Mars projected into point perspective, a view similar to that which one would see from a spacecraft. This mosaic is composed of 104 Viking Orbiter images acquired…</p>\n",
       " </div>\n",
       " <!-- end description -->\n",
       " </div>,\n",
       " <div class=\"item\">\n",
       " <a class=\"itemLink product-item\" href=\"schiaparelli.html\"><img alt=\"Schiaparelli Hemisphere Enhanced thumbnail\" class=\"thumb\" src=\"images/08eac6e22c07fb1fe72223a79252de20_schiaparelli_enhanced.tif_thumb.png\"/></a>\n",
       " <div class=\"description\">\n",
       " <a class=\"itemLink product-item\" href=\"schiaparelli.html\">\n",
       " <h3>Schiaparelli Hemisphere Enhanced</h3>\n",
       " </a>\n",
       " <span class=\"subtitle\" style=\"float:left\">image/tiff 35 MB</span><span class=\"pubDate\" style=\"float:right\"></span><br/>\n",
       " <p>Mosaic of the Schiaparelli hemisphere of Mars projected into point perspective, a view similar to that which one would see from a spacecraft. The images were acquired in 1980 during early northern…</p>\n",
       " </div>\n",
       " <!-- end description -->\n",
       " </div>,\n",
       " <div class=\"item\">\n",
       " <a class=\"itemLink product-item\" href=\"syrtis.html\"><img alt=\"Syrtis Major Hemisphere Enhanced thumbnail\" class=\"thumb\" src=\"images/55a0a1e2796313fdeafb17c35925e8ac_syrtis_major_enhanced.tif_thumb.png\"/></a>\n",
       " <div class=\"description\">\n",
       " <a class=\"itemLink product-item\" href=\"syrtis.html\">\n",
       " <h3>Syrtis Major Hemisphere Enhanced</h3>\n",
       " </a>\n",
       " <span class=\"subtitle\" style=\"float:left\">image/tiff 25 MB</span><span class=\"pubDate\" style=\"float:right\"></span><br/>\n",
       " <p>Mosaic of the Syrtis Major hemisphere of Mars projected into point perspective, a view similar to that which one would see from a spacecraft. This mosaic is composed of about 100 red and violet…</p>\n",
       " </div>\n",
       " <!-- end description -->\n",
       " </div>,\n",
       " <div class=\"item\">\n",
       " <a class=\"itemLink product-item\" href=\"valles.html\"><img alt=\"Valles Marineris Hemisphere Enhanced thumbnail\" class=\"thumb\" src=\"images/4e59980c1c57f89c680c0e1ccabbeff1_valles_marineris_enhanced.tif_thumb.png\"/></a>\n",
       " <div class=\"description\">\n",
       " <a class=\"itemLink product-item\" href=\"valles.html\">\n",
       " <h3>Valles Marineris Hemisphere Enhanced</h3>\n",
       " </a>\n",
       " <span class=\"subtitle\" style=\"float:left\">image/tiff 27 MB</span><span class=\"pubDate\" style=\"float:right\"></span><br/>\n",
       " <p>Mosaic of the Valles Marineris hemisphere of Mars projected into point perspective, a view similar to that which one would see from a spacecraft. The distance is 2500 kilometers from the surface of…</p>\n",
       " </div>\n",
       " <!-- end description -->\n",
       " </div>]"
      ]
     },
     "execution_count": 22,
     "metadata": {},
     "output_type": "execute_result"
    }
   ],
   "source": [
    "#finder"
   ]
  },
  {
   "cell_type": "code",
   "execution_count": 83,
   "id": "c9e35da1-b737-412e-b71a-50da404cfb35",
   "metadata": {},
   "outputs": [
    {
     "data": {
      "text/plain": [
       "['title: Cerberus Hemisphere',\n",
       " 'title: Schiaparelli Hemisphere',\n",
       " 'title: Syrtis Major Hemisphere',\n",
       " 'title: Valles Marineris Hemisphere']"
      ]
     },
     "execution_count": 83,
     "metadata": {},
     "output_type": "execute_result"
    }
   ],
   "source": [
    "# finder2 = HEMIsoup.find_all('img', class_='thumb') this gives the img alt test, class=thumb, src of image.\n",
    "# finder2 = HEMIsoup.find_all('div', class_='a') returns nothing at all\n",
    "# finder2 = HEMIsoup.find_all('div', class_='description') returns a classs itemLink product-item, hreft, and h3 tag with description that you want\n",
    "# finder2 = HEMIsoup.find_all('a', class_='itemLink product-item') returns just the a tag area with the href, img alt, class, and src THIS MAY BE THE BETTER BET\n",
    "# finder2 = HEMIsoup.find_all('a', class_='itemLink product-item')\n",
    "finder2 = HEMIsoup.find_all('div', class_='description')\n",
    "HEMI_title_list = []\n",
    "\n",
    "for x in finder2:\n",
    "    HEMI_title = x.find('h3').text.rsplit(' ' , 1)[0] #adding in the r.split drops the word \"enhanced\"\n",
    "    HEMI_title_list.append(f'title: {HEMI_title}')\n",
    "\n",
    "HEMI_title_list"
   ]
  },
  {
   "cell_type": "code",
   "execution_count": 75,
   "id": "18eb272b-e72d-4082-84c4-bd570cc88ca7",
   "metadata": {
    "collapsed": true,
    "jupyter": {
     "outputs_hidden": true
    },
    "tags": []
   },
   "outputs": [
    {
     "data": {
      "text/plain": [
       "[<div class=\"description\">\n",
       " <a class=\"itemLink product-item\" href=\"cerberus.html\">\n",
       " <h3>Cerberus Hemisphere Enhanced</h3>\n",
       " </a>\n",
       " <span class=\"subtitle\" style=\"float:left\">image/tiff 21 MB</span><span class=\"pubDate\" style=\"float:right\"></span><br/>\n",
       " <p>Mosaic of the Cerberus hemisphere of Mars projected into point perspective, a view similar to that which one would see from a spacecraft. This mosaic is composed of 104 Viking Orbiter images acquired…</p>\n",
       " </div>,\n",
       " <div class=\"description\">\n",
       " <a class=\"itemLink product-item\" href=\"schiaparelli.html\">\n",
       " <h3>Schiaparelli Hemisphere Enhanced</h3>\n",
       " </a>\n",
       " <span class=\"subtitle\" style=\"float:left\">image/tiff 35 MB</span><span class=\"pubDate\" style=\"float:right\"></span><br/>\n",
       " <p>Mosaic of the Schiaparelli hemisphere of Mars projected into point perspective, a view similar to that which one would see from a spacecraft. The images were acquired in 1980 during early northern…</p>\n",
       " </div>,\n",
       " <div class=\"description\">\n",
       " <a class=\"itemLink product-item\" href=\"syrtis.html\">\n",
       " <h3>Syrtis Major Hemisphere Enhanced</h3>\n",
       " </a>\n",
       " <span class=\"subtitle\" style=\"float:left\">image/tiff 25 MB</span><span class=\"pubDate\" style=\"float:right\"></span><br/>\n",
       " <p>Mosaic of the Syrtis Major hemisphere of Mars projected into point perspective, a view similar to that which one would see from a spacecraft. This mosaic is composed of about 100 red and violet…</p>\n",
       " </div>,\n",
       " <div class=\"description\">\n",
       " <a class=\"itemLink product-item\" href=\"valles.html\">\n",
       " <h3>Valles Marineris Hemisphere Enhanced</h3>\n",
       " </a>\n",
       " <span class=\"subtitle\" style=\"float:left\">image/tiff 27 MB</span><span class=\"pubDate\" style=\"float:right\"></span><br/>\n",
       " <p>Mosaic of the Valles Marineris hemisphere of Mars projected into point perspective, a view similar to that which one would see from a spacecraft. The distance is 2500 kilometers from the surface of…</p>\n",
       " </div>]"
      ]
     },
     "execution_count": 75,
     "metadata": {},
     "output_type": "execute_result"
    }
   ],
   "source": [
    "#finder2"
   ]
  },
  {
   "cell_type": "code",
   "execution_count": null,
   "id": "e72548d2-0b46-46d3-929c-d38263feba3c",
   "metadata": {},
   "outputs": [],
   "source": []
  }
 ],
 "metadata": {
  "kernelspec": {
   "display_name": "Python 3",
   "language": "python",
   "name": "python3"
  },
  "language_info": {
   "codemirror_mode": {
    "name": "ipython",
    "version": 3
   },
   "file_extension": ".py",
   "mimetype": "text/x-python",
   "name": "python",
   "nbconvert_exporter": "python",
   "pygments_lexer": "ipython3",
   "version": "3.8.8"
  }
 },
 "nbformat": 4,
 "nbformat_minor": 5
}
