{
 "cells": [
  {
   "cell_type": "markdown",
   "id": "82527fd9-66f1-4f1f-a669-ca6153536293",
   "metadata": {},
   "source": [
    "### Scrape the Mars News Site for THE SINGLE MOST RECENT latest News Title and Paragraph Text"
   ]
  },
  {
   "cell_type": "code",
   "execution_count": 1,
   "id": "30dce5b9-d899-45b7-aa62-fdd3a9de53bc",
   "metadata": {
    "tags": []
   },
   "outputs": [],
   "source": [
    "import pymongo \n",
    "from bs4 import BeautifulSoup as bs\n",
    "import requests\n",
    "from splinter import Browser\n",
    "import os\n",
    "from webdriver_manager.chrome import ChromeDriverManager"
   ]
  },
  {
   "cell_type": "code",
   "execution_count": 2,
   "id": "560abf50-acdf-46c1-89e6-0683269ece66",
   "metadata": {},
   "outputs": [
    {
     "name": "stderr",
     "output_type": "stream",
     "text": [
      "\n",
      "\n",
      "====== WebDriver manager ======\n",
      "Current google-chrome version is 91.0.4472\n",
      "Get LATEST driver version for 91.0.4472\n",
      "Driver [C:\\Users\\marc_\\.wdm\\drivers\\chromedriver\\win32\\91.0.4472.19\\chromedriver.exe] found in cache\n"
     ]
    }
   ],
   "source": [
    "executable_path = {'executable_path': ChromeDriverManager().install()}\n",
    "HLbrowser = Browser('chrome', **executable_path, headless=False)\n",
    "IMGbrowser = Browser('chrome', **executable_path, headless=False)"
   ]
  },
  {
   "cell_type": "code",
   "execution_count": 3,
   "id": "15bce5f5-c1b2-48e7-94e6-1fe478e79e9a",
   "metadata": {},
   "outputs": [],
   "source": [
    "HLurl = \"https://redplanetscience.com\"\n",
    "HLbrowser.visit(HLurl)\n",
    "IMGurl = \"https://spaceimages-mars.com\"\n",
    "IMGbrowser.visit(IMGurl)"
   ]
  },
  {
   "cell_type": "code",
   "execution_count": 4,
   "id": "3292d8c6-232e-4587-89fe-b45d44eec310",
   "metadata": {},
   "outputs": [],
   "source": [
    "HLhtml = HLbrowser.html\n",
    "HLsoup = bs(HLhtml, 'html.parser')\n",
    "IMGhtml = IMGbrowser.html\n",
    "IMGsoup = bs(IMGhtml, 'html.parser')"
   ]
  },
  {
   "cell_type": "code",
   "execution_count": 5,
   "id": "2ac625e8-7085-4d18-9144-dad36b7b3ee7",
   "metadata": {
    "tags": []
   },
   "outputs": [],
   "source": [
    "#THIS, FOR SOME REASON, DOES NOT WORK\n",
    "# url = \"https://redplanetscience.com/\"\n",
    "# response = requests.get(url)\n",
    "# soup = bs(response.text, 'html.parser')"
   ]
  },
  {
   "cell_type": "code",
   "execution_count": 6,
   "id": "c3da9d5a-2558-4f32-b895-016629951136",
   "metadata": {
    "tags": []
   },
   "outputs": [],
   "source": [
    "#JUST TESTING SHIT\n",
    "#THIS DOES NOT WORK IF YOU ADD IN A CLASS\n",
    "# content = soup.find_all('div')\n",
    "# for x in content:\n",
    "#     print(x.text)\n",
    "#JUST TESTING SHIT\n",
    "#THIS DOES NOT WORK IF YOU ADD IN A CLASS"
   ]
  },
  {
   "cell_type": "code",
   "execution_count": 7,
   "id": "38bfe0cd-51e9-441c-bfec-ad3f6995958d",
   "metadata": {
    "tags": []
   },
   "outputs": [
    {
     "name": "stdout",
     "output_type": "stream",
     "text": [
      "NASA, ULA Launch Mars 2020 Perseverance Rover Mission to Red Planet\n",
      "The agency's Mars 2020 mission is on its way. It will land at Jezero Crater in about seven months, on Feb. 18, 2021. \n"
     ]
    }
   ],
   "source": [
    "#Adding in .text to end of lines 3 and 4 = error for object has no attribute text\\\n",
    "#Adding in 'div' to the ( ) statement also not doing anything\n",
    "news_title = HLsoup.find('div' , class_='content_title').text\n",
    "p_text = HLsoup.find('div' , class_='article_teaser_body').text\n",
    "print(news_title)\n",
    "print(p_text)"
   ]
  },
  {
   "cell_type": "markdown",
   "id": "f01ef151-3b5f-4456-963d-27539d16dbcf",
   "metadata": {},
   "source": [
    "### Use Splinter to find the IMAGE URL for the CURRENT FEATURED mars image and assign the URL string to a var called featured_image_url"
   ]
  },
  {
   "cell_type": "code",
   "execution_count": 11,
   "id": "7ad7790c-215f-4d9a-8ba2-2bc10b8f0905",
   "metadata": {},
   "outputs": [
    {
     "name": "stdout",
     "output_type": "stream",
     "text": [
      "https://spaceimages-mars.com/image/featured/mars3.jpg\n"
     ]
    }
   ],
   "source": [
    "thread = IMGsoup.find('a' , class_='showimg fancybox-thumbs')\n",
    "featured_image_url = thread['href']\n",
    "print(f'https://spaceimages-mars.com/{featured_image_url}')"
   ]
  },
  {
   "cell_type": "code",
   "execution_count": null,
   "id": "c99d9c3c-41d7-4d00-8d41-faad2a42c50f",
   "metadata": {},
   "outputs": [],
   "source": []
  }
 ],
 "metadata": {
  "kernelspec": {
   "display_name": "Python 3",
   "language": "python",
   "name": "python3"
  },
  "language_info": {
   "codemirror_mode": {
    "name": "ipython",
    "version": 3
   },
   "file_extension": ".py",
   "mimetype": "text/x-python",
   "name": "python",
   "nbconvert_exporter": "python",
   "pygments_lexer": "ipython3",
   "version": "3.8.8"
  }
 },
 "nbformat": 4,
 "nbformat_minor": 5
}
